{
 "cells": [
  {
   "cell_type": "markdown",
   "id": "ef43fb35",
   "metadata": {},
   "source": [
    "# Urn strategy for two agent signal learning game\n",
    "\n",
    "Adapted from the model described in Argiento et al. (2009) 'Learning to Signal: Analysis of a micro-level reinforcement model' "
   ]
  },
  {
   "cell_type": "code",
   "execution_count": 1,
   "id": "3bd17694",
   "metadata": {},
   "outputs": [],
   "source": [
    "import random"
   ]
  },
  {
   "cell_type": "code",
   "execution_count": 29,
   "id": "a2bae500",
   "metadata": {},
   "outputs": [],
   "source": [
    "rounds = 1000"
   ]
  },
  {
   "cell_type": "code",
   "execution_count": 30,
   "id": "183c00b4",
   "metadata": {},
   "outputs": [
    {
     "name": "stdout",
     "output_type": "stream",
     "text": [
      "win!\n",
      "win!\n",
      "\n",
      "win!\n",
      "win!\n",
      "\n",
      "win!\n",
      "\n",
      "win!\n",
      "\n",
      "{'1': ['A', 'B', 'A', 'B'], '2': ['A', 'B', 'A', 'A', 'A', 'A']}\n",
      "{'A': ['1', '2', '2', '1', '2', '2', '2'], 'B': ['1', '2', '1']}\n"
     ]
    }
   ],
   "source": [
    "# these don't change; just used as a target for sampling in each round\n",
    "nature_states = ['1', '2']\n",
    "\n",
    "# the two urns for each agent are stored in a dictionary\n",
    "# with the 'input' labels as keys for ease of updating\n",
    "# these urn objects are updated as learning occurs\n",
    "sender_urns = { \n",
    "                '1': ['A', 'B'], \n",
    "                '2': ['A', 'B'] \n",
    "            }\n",
    "receiver_urns = { \n",
    "                'A': ['1', '2'], \n",
    "                'B': ['1', '2'] \n",
    "            }\n",
    "\n",
    "for i in range(rounds):\n",
    "    state = random.sample(nature_states, 1)[0]\n",
    "    signal = random.sample(sender_urns[state], 1)[0]\n",
    "    action = random.sample(receiver_urns[signal], 1)[0]\n",
    "    if action == state:\n",
    "        print('win!')\n",
    "        sender_urns[state].append(signal)\n",
    "        receiver_urns[signal].append(action)\n",
    "    else:\n",
    "        print(\"\")\n",
    "\n",
    "print(sender_urns)\n",
    "print(receiver_urns)"
   ]
  },
  {
   "cell_type": "code",
   "execution_count": null,
   "id": "a298b3cf",
   "metadata": {},
   "outputs": [],
   "source": []
  }
 ],
 "metadata": {
  "kernelspec": {
   "display_name": "Python 3",
   "language": "python",
   "name": "python3"
  },
  "language_info": {
   "codemirror_mode": {
    "name": "ipython",
    "version": 3
   },
   "file_extension": ".py",
   "mimetype": "text/x-python",
   "name": "python",
   "nbconvert_exporter": "python",
   "pygments_lexer": "ipython3",
   "version": "3.8.10"
  }
 },
 "nbformat": 4,
 "nbformat_minor": 5
}
